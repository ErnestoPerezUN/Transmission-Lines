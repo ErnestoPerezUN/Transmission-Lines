{
 "cells": [
  {
   "cell_type": "code",
   "execution_count": 42,
   "id": "d2811e2a",
   "metadata": {},
   "outputs": [],
   "source": [
    "import numpy as np\n",
    "import matplotlib as plt"
   ]
  },
  {
   "cell_type": "markdown",
   "id": "8d9a3ee5",
   "metadata": {},
   "source": [
    "### Units definition"
   ]
  },
  {
   "cell_type": "code",
   "execution_count": 43,
   "id": "74216cfa",
   "metadata": {},
   "outputs": [],
   "source": [
    "units='US' #'SI' #'US'\n"
   ]
  },
  {
   "cell_type": "markdown",
   "id": "ae5194a6",
   "metadata": {},
   "source": [
    "# Definición de Parámetros"
   ]
  },
  {
   "cell_type": "code",
   "execution_count": 44,
   "id": "4497ce4c",
   "metadata": {},
   "outputs": [],
   "source": [
    "d=0.03196\n",
    "E=.5\n",
    "He=500.  # Altura en metros  sobre el nivel del mar (ejemplo) [m]\n",
    "mu_f=1.9822E-05 #Viscosidad cinemática del aire [Kg/(m·s)] (Tfilm=Temperatura del aire en °C)\n",
    "Vw=0.611#Velocidad del viento en m/s\n",
    "Rac1=6.40E-05 #[Ohm/m] Resistencia del conductor a 20 °C\n",
    "Rac2=6.4E-05# [Ohm/m] Resistencia del conductor a 75 °C\n",
    "T1=20 #Temperatura a la que se mide Rac1 en °C\n",
    "T2=75 #Temperatura a la que se mide Rac2 en °C\n",
    "Tav=75 #Temperatura objetivo promedio del conductor en °C\n",
    "Ta=37.9 #Temperatura del aire en °C\n",
    "Tc=75 #Temperatura del conductor en °C\n",
    "alfa=0.5 #Albedo del conductor (valor típico entre 0 y 1)\n",
    "phi=np.radians(90) #Ángulo de inclinación del conductor en radianes (0 radianes = horizontal, π/2 radianes = vertical)\n",
    "Qse=1043 #Irradiancia solar en W/m^2 (valor típico)\n"
   ]
  },
  {
   "cell_type": "markdown",
   "id": "42d4c224",
   "metadata": {},
   "source": [
    "Temperatura promedio frontera conductor (Temperatura ambiente y superficial del conductor)"
   ]
  },
  {
   "cell_type": "code",
   "execution_count": 45,
   "id": "0efc2665",
   "metadata": {},
   "outputs": [
    {
     "name": "stdout",
     "output_type": "stream",
     "text": [
      "Temperatura del aire en °C: 56.45\n"
     ]
    }
   ],
   "source": [
    "Tfilm=(Tc+Ta)/2\n",
    "print('Temperatura del aire en °C:', Tfilm)"
   ]
  },
  {
   "cell_type": "markdown",
   "id": "ae72a6bc",
   "metadata": {},
   "source": [
    "Cálculo de la densidad del aire"
   ]
  },
  {
   "cell_type": "code",
   "execution_count": 46,
   "id": "5af293a7",
   "metadata": {},
   "outputs": [
    {
     "name": "stdout",
     "output_type": "stream",
     "text": [
      "Densidad del aire [kg/m^3] : 1.0092557271274214\n"
     ]
    }
   ],
   "source": [
    "\n",
    "pf=(1.293-1.525E-4*He+6.379e-9*He**2)/(1+0.00367*Tfilm) #Densidad del aire [kg/m^3] \n",
    "print('Densidad del aire [kg/m^3] :', pf)"
   ]
  },
  {
   "cell_type": "markdown",
   "id": "f0d8de59",
   "metadata": {},
   "source": [
    "Viscosidad Dinámica del aire"
   ]
  },
  {
   "cell_type": "code",
   "execution_count": 47,
   "id": "49de89ae",
   "metadata": {},
   "outputs": [
    {
     "name": "stdout",
     "output_type": "stream",
     "text": [
      "Viscosidad dinámica del aire [kg/(m·s)] : 1.9828307803711403e-05\n"
     ]
    }
   ],
   "source": [
    "Hf=(1.458e-6*(Tfilm+273.15)**1.5)/(Tfilm+273.15+110.4) \n",
    "print('Viscosidad dinámica del aire [kg/(m·s)] :', Hf)"
   ]
  },
  {
   "cell_type": "markdown",
   "id": "91435856",
   "metadata": {},
   "source": [
    "Conductividad Térmica"
   ]
  },
  {
   "cell_type": "code",
   "execution_count": 48,
   "id": "3d25696f",
   "metadata": {},
   "outputs": [
    {
     "name": "stdout",
     "output_type": "stream",
     "text": [
      "Conductividad térmica del aire [W/(m·K)] : 0.0284467231427825\n"
     ]
    }
   ],
   "source": [
    "kf=2.424e-2+7.477e-5*Tfilm-4.407e-9*Tfilm**2 \n",
    "print('Conductividad térmica del aire [W/(m·K)] :', kf)"
   ]
  },
  {
   "cell_type": "markdown",
   "id": "02052c16",
   "metadata": {},
   "source": [
    "Cálculo de la Resistencia del condcutor a la temperatura objetivo.  "
   ]
  },
  {
   "cell_type": "code",
   "execution_count": 49,
   "id": "2fe50cf7",
   "metadata": {},
   "outputs": [
    {
     "name": "stdout",
     "output_type": "stream",
     "text": [
      "Resistencia a Taverage del conductor [Ohm] : 6.4e-05\n"
     ]
    }
   ],
   "source": [
    "\n",
    "Rac=Rac1+(Tav-T1)*(Rac2-Rac1)/(T2-T1) #Resistencia del conductor [Ohm] (Tfilm=Temperatura del aire en °C)\n",
    "print('Resistencia a Taverage del conductor [Ohm] :', Rac)\n"
   ]
  },
  {
   "cell_type": "code",
   "execution_count": 50,
   "id": "7a26cbb3",
   "metadata": {},
   "outputs": [
    {
     "name": "stdout",
     "output_type": "stream",
     "text": [
      "Ángulo del viento: 1.0\n"
     ]
    }
   ],
   "source": [
    "kangle=1.194-np.cos(phi)+0.194*np.cos(2*phi)+0.368*np.sin(2*phi)\n",
    "print('Ángulo del viento:',kangle)"
   ]
  },
  {
   "cell_type": "code",
   "execution_count": 51,
   "id": "19795ccd",
   "metadata": {},
   "outputs": [
    {
     "data": {
      "text/plain": [
       "'Número de Reynolds:'"
      ]
     },
     "metadata": {},
     "output_type": "display_data"
    },
    {
     "data": {
      "text/plain": [
       "994.2640382819264"
      ]
     },
     "metadata": {},
     "output_type": "display_data"
    }
   ],
   "source": [
    "NRE=d*pf*Vw/mu_f  #número de Reynolds [adimensional] (d=diámetro del conductor en metros, pf=densidad del aire en kg/m^3, Vw=velocidad del viento en m/s, mu_f=viscosidad dinámica del aire en kg/(m·s))\n",
    "display('Número de Reynolds:' ,NRE)"
   ]
  },
  {
   "cell_type": "markdown",
   "id": "fa74b266",
   "metadata": {},
   "source": [
    "Cálculo de la tasa de transferencia de calor por convección"
   ]
  },
  {
   "cell_type": "code",
   "execution_count": 52,
   "id": "5186b795",
   "metadata": {},
   "outputs": [
    {
     "name": "stdout",
     "output_type": "stream",
     "text": [
      "Tasa de transferencia de calor por convección natural [W/m^2] : 25.343734420809987\n",
      "Tasa de transferencia de calor por convección forzada [W/m^2] : 52.64111573922279\n",
      "Tasa de transferencia de calor por convección forzada [W/m^2] : 50.035534157095874\n"
     ]
    }
   ],
   "source": [
    "qcn=3.645*pf**0.5*d**0.75*(Tc-Ta)**1.25 #Tasa de transferencia de calor por convección natural [W/m^2] (D=diámetro del conductor en metros, Tc=Temperatura del conductor en °C, Ta=Temperatura del aire en °C)\n",
    "print('Tasa de transferencia de calor por convección natural [W/m^2] :', qcn)\n",
    "qc1=(1.01+1.35*(NRE)**0.52)*kf*kangle*(Tc-Ta) #Tasa de transferencia de calor por convección forzada [W/m^2] (Vw=velocidad del viento en m/s, mu_f=viscosidad dinámica del aire en kg/(m·s), D=diámetro del conductor en metros, Tc=Temperatura del conductor en °C, Ta=Temperatura del aire en °C)\n",
    "print('Tasa de transferencia de calor por convección forzada [W/m^2] :', qc1)\n",
    "qc2=(0.754*(NRE)**0.6)*kf*kangle*(Tc-Ta) #Tasa de transferencia de calor por convección forzada [W/m^2] (Vw=velocidad del viento en m/s, mu_f=viscosidad dinámica del aire en kg/(m·s), D=diámetro del conductor en metros, Tc=Temperatura del conductor en °C, Ta=Temperatura del aire en °C)\n",
    "print('Tasa de transferencia de calor por convección forzada [W/m^2] :', qc2)"
   ]
  },
  {
   "cell_type": "code",
   "execution_count": 53,
   "id": "67306339",
   "metadata": {},
   "outputs": [
    {
     "data": {
      "text/plain": [
       "'Tasa de transferencia de calor por convección'"
      ]
     },
     "metadata": {},
     "output_type": "display_data"
    },
    {
     "data": {
      "text/plain": [
       "['Convección total qc: ', np.float64(52.64111573922279), ' [W/m^2]']"
      ]
     },
     "metadata": {},
     "output_type": "display_data"
    }
   ],
   "source": [
    "qc=max(qcn, qc1, qc2)  #Tasa de transferencia de calor por convección [W/m^2]\n",
    "display('Tasa de transferencia de calor por convección')\n",
    "display(['Convección total qc: ',(qc),' [W/m^2]'])\n"
   ]
  },
  {
   "cell_type": "markdown",
   "id": "3316ab3f",
   "metadata": {},
   "source": [
    "Tasa de transferencia de calor por radiación"
   ]
  },
  {
   "cell_type": "code",
   "execution_count": 54,
   "id": "693a1075",
   "metadata": {},
   "outputs": [
    {
     "name": "stdout",
     "output_type": "stream",
     "text": [
      "Tasa de transferencia de calor por radiación\n",
      "['Radiación qr: ', 15.162322539640769, ' [W/m^2]']\n"
     ]
    }
   ],
   "source": [
    "\n",
    "qr=17.8*E*d*(((Tc+273.15)/100)**4-((Ta+273.15)/100)**4)  #Tasa de transferencia de calor por radiación [W/m^2] (E=emissividad del conductor, Tc=Temperatura del conductor en °C, Ta=Temperatura del aire en °C)\n",
    "print('Tasa de transferencia de calor por radiación')\n",
    "print(['Radiación qr: ',(qr),' [W/m^2]'])\n"
   ]
  },
  {
   "cell_type": "markdown",
   "id": "e9213e89",
   "metadata": {},
   "source": [
    "Ganancia de calor por radiación solar"
   ]
  },
  {
   "cell_type": "code",
   "execution_count": null,
   "id": "be293a68",
   "metadata": {},
   "outputs": [
    {
     "name": "stdout",
     "output_type": "stream",
     "text": [
      "Tasa de transferencia de calor por radiación solar\n",
      "['Radiación solar qs: ', 16.66714, ' [W/m^2]']\n"
     ]
    }
   ],
   "source": [
    "qs=alfa*Qse*d  #Tasa de transferencia de calor por radiación solar [W/m^2] (alfa=albedo del conductor, Qse=irradiancia solar en W/m^2, theta=ángulo entre la normal a la superficie y la dirección del sol en radianes)\n",
    "print('Tasa de transferencia de calor por radiación solar')\n",
    "print(['Radiación solar qs: ',(qs),' [W/m^2]'])"
   ]
  },
  {
   "cell_type": "markdown",
   "id": "e028ceaf",
   "metadata": {},
   "source": [
    "Cálculo de la corriente del conductor para las condiciones establecidas"
   ]
  },
  {
   "cell_type": "code",
   "execution_count": 56,
   "id": "937bd8ea",
   "metadata": {},
   "outputs": [
    {
     "name": "stdout",
     "output_type": "stream",
     "text": [
      "(Corriente máxima del conductor) [A] : 893.8706061881904\n"
     ]
    }
   ],
   "source": [
    "\n",
    "Icond=np.sqrt((qc + qr - qs)/ Rac)  \n",
    "print('(Corriente máxima del conductor) [A] :', Icond)"
   ]
  }
 ],
 "metadata": {
  "kernelspec": {
   "display_name": "Python 3",
   "language": "python",
   "name": "python3"
  },
  "language_info": {
   "codemirror_mode": {
    "name": "ipython",
    "version": 3
   },
   "file_extension": ".py",
   "mimetype": "text/x-python",
   "name": "python",
   "nbconvert_exporter": "python",
   "pygments_lexer": "ipython3",
   "version": "3.12.0"
  }
 },
 "nbformat": 4,
 "nbformat_minor": 5
}
